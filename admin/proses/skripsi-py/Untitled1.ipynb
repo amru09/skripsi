{
 "cells": [
  {
   "cell_type": "code",
   "execution_count": 4,
   "id": "13943fa7-4a70-4948-80f3-7e9f67696b93",
   "metadata": {},
   "outputs": [
    {
     "name": "stdout",
     "output_type": "stream",
     "text": [
      "Detected Number is: AB, 1833 Lay\n",
      "\f",
      "\n"
     ]
    },
    {
     "data": {
      "text/plain": [
       "<matplotlib.image.AxesImage at 0x251d54b4190>"
      ]
     },
     "execution_count": 4,
     "metadata": {},
     "output_type": "execute_result"
    },
    {
     "data": {
      "image/png": "[encoded data removed]",
      "text/plain": [
       "<Figure size 432x288 with 1 Axes>"
      ]
     },
     "metadata": {
      "needs_background": "light"
     },
     "output_type": "display_data"
    }
   ],
   "source": [
    "import cv2\n",
    "import imutils\n",
    "import numpy as np\n",
    "from matplotlib import pyplot as plt\n",
    "import pytesseract\n",
    "pytesseract.pytesseract.tesseract_cmd = r\"C:\\Program Files\\Tesseract-OCR\\tesseract.exe\"\n",
    "\n",
    "img = cv2.imread('1.jpeg')\n",
    "# img = cv2.resize(img,(620,480))\n",
    "\n",
    "gray = cv2.cvtColor(img, cv2.COLOR_BGR2GRAY)\n",
    "blur = cv2.bilateralFilter(gray, 9, 75, 75)\n",
    "\n",
    "th = cv2.adaptiveThreshold(blur,255,cv2.ADAPTIVE_THRESH_GAUSSIAN_C, cv2.THRESH_BINARY,11,2)\n",
    "\n",
    "imgcnt = th.copy()\n",
    "\n",
    "cnt = cv2.findContours(imgcnt,cv2.RETR_TREE,cv2.CHAIN_APPROX_SIMPLE)\n",
    "cnt = imutils.grab_contours(cnt)\n",
    "cnt = sorted(cnt,key=cv2.contourArea,reverse = True)[:10]\n",
    "\n",
    "detected = None\n",
    "screencnt = None\n",
    "for c in cnt:\n",
    "    \n",
    "    peri = cv2.arcLength(c,True)\n",
    "    approx = cv2.approxPolyDP(c,0.02*peri,True)\n",
    "    #if there are four DP \n",
    "    if len(approx) == 4:\n",
    "        screencnt = approx\n",
    "            #detected == 1\n",
    "        break\n",
    "        \n",
    "#masking other part\n",
    "mask = np.zeros(gray.shape,np.uint8)\n",
    "\n",
    "\n",
    "try:\n",
    "    new_image = cv2.drawContours(mask,[screencnt],0,255,-1)\n",
    "    new_image = cv2.bitwise_and(img,img,mask=mask)\n",
    "    #cropping process\n",
    "    (x,y) = np.where(mask ==255)\n",
    "    (topx,topy) = (np.min(x),np.min(y))\n",
    "    (bottomx,bottomy) = (np.max(x),np.max(y))\n",
    "    cropped = gray[topx:bottomx+1, topy:bottomy+1]\n",
    "    blur = cv2.GaussianBlur(cropped,(5,5),0)\n",
    "    ret,th = cv2.threshold(blur,127,255,cv2.THRESH_BINARY_INV)\n",
    "    text = pytesseract.image_to_string(th,config='--psm 7')\n",
    "    print(\"Detected Number is:\",text)\n",
    "except:\n",
    "    print('no detected contour')\n",
    "\n",
    "\n",
    "plt.imshow(th)\n",
    "# cv2.waitKey(0)\n",
    "# cv2.destroyAllWindows()"
   ]
  },
  {
   "cell_type": "code",
   "execution_count": null,
   "id": "0323c8a3-6648-4e8c-a636-70dc28ddfcc7",
   "metadata": {},
   "outputs": [],
   "source": []
  }
 ],
 "metadata": {
  "kernelspec": {
   "display_name": "Python 3 (ipykernel)",
   "language": "python",
   "name": "python3"
  },
  "language_info": {
   "codemirror_mode": {
    "name": "ipython",
    "version": 3
   },
   "file_extension": ".py",
   "mimetype": "text/x-python",
   "name": "python",
   "nbconvert_exporter": "python",
   "pygments_lexer": "ipython3",
   "version": "3.9.7"
  }
 },
 "nbformat": 4,
 "nbformat_minor": 5
}
